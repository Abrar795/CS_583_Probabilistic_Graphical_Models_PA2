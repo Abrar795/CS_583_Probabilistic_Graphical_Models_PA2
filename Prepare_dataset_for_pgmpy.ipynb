{
 "cells": [
  {
   "cell_type": "markdown",
   "id": "69f2f21d",
   "metadata": {},
   "source": [
    "\n",
    "\n",
    "\n",
    "# 1. [10 points] Prepare dataset for pgmpy\n",
    "\n",
    "\n",
    "\n",
    "### Load the dataset into IPython notebook or script. Discretize continuous values. Use median value to separate continuous variables into ‘high’ and ‘low’ categories\n",
    "\n",
    "\n",
    "\n",
    "\n"
   ]
  },
  {
   "cell_type": "code",
   "execution_count": 13,
   "id": "63d6fdb3",
   "metadata": {},
   "outputs": [
    {
     "name": "stdout",
     "output_type": "stream",
     "text": [
      "   mpg cylinders displacement horsepower weight acceleration model year  \\\n",
      "0  low      high         high       high   high          low        low   \n",
      "1  low      high         high       high   high          low        low   \n",
      "2  low      high         high       high   high          low        low   \n",
      "3  low      high         high       high   high          low        low   \n",
      "4  low      high         high       high   high          low        low   \n",
      "\n",
      "  origin                   car name  \n",
      "0    low  chevrolet chevelle malibu  \n",
      "1    low          buick skylark 320  \n",
      "2    low         plymouth satellite  \n",
      "3    low              amc rebel sst  \n",
      "4    low                ford torino  \n"
     ]
    }
   ],
   "source": [
    "import pandas as pd\n",
    "\n",
    "# Load dataset\n",
    "df = pd.read_csv(\"auto-mpg.csv\")\n",
    "\n",
    "# Discretize continuous values using median\n",
    "for column in df.columns:\n",
    "    if df[column].dtype != 'object':  # Check if column is numeric\n",
    "        median_val = df[column].median()  # Calculate median\n",
    "        df[column] = pd.cut(df[column], bins=[float('-inf'), median_val, float('inf')], labels=['low', 'high'])\n",
    "\n",
    "# Display first few rows of the dataset\n",
    "print(df.head())\n",
    "data=df"
   ]
  }
 ],
 "metadata": {
  "kernelspec": {
   "display_name": "Python 3 (ipykernel)",
   "language": "python",
   "name": "python3"
  },
  "language_info": {
   "codemirror_mode": {
    "name": "ipython",
    "version": 3
   },
   "file_extension": ".py",
   "mimetype": "text/x-python",
   "name": "python",
   "nbconvert_exporter": "python",
   "pygments_lexer": "ipython3",
   "version": "3.9.13"
  }
 },
 "nbformat": 4,
 "nbformat_minor": 5
}
